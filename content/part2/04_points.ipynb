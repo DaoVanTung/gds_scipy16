{
 "cells": [
  {
   "cell_type": "markdown",
   "metadata": {},
   "source": [
    "# Point Patterns"
   ]
  },
  {
   "cell_type": "markdown",
   "metadata": {},
   "source": [
    "> [`IPYNB`](../content/part2/04_points.ipynb)\n",
    "\n",
    "This notebook covers a brief introduction on how to visualize and analyze point patterns. To demonstrate this, we will use a dataset of all the AirBnb listings in the city of Austin (check the Data section for more information about the dataset).\n",
    "\n",
    "Before anything, let us load up the libraries we will use:"
   ]
  },
  {
   "cell_type": "code",
   "execution_count": 1,
   "metadata": {
    "collapsed": false,
    "scrolled": true
   },
   "outputs": [
    {
     "name": "stderr",
     "output_type": "stream",
     "text": [
      "/home/dani/anaconda/envs/pydata/lib/python2.7/site-packages/matplotlib/font_manager.py:273: UserWarning: Matplotlib is building the font cache using fc-list. This may take a moment.\n",
      "  warnings.warn('Matplotlib is building the font cache using fc-list. This may take a moment.')\n"
     ]
    }
   ],
   "source": [
    "%matplotlib inline\n",
    "\n",
    "import numpy as np\n",
    "import pandas as pd\n",
    "import geopandas as gpd\n",
    "import seaborn as sns\n",
    "import matplotlib.pyplot as plt\n",
    "import mplleaflet as mpll"
   ]
  },
  {
   "cell_type": "markdown",
   "metadata": {},
   "source": [
    "## Data preparation"
   ]
  },
  {
   "cell_type": "markdown",
   "metadata": {},
   "source": [
    "Let us first set the paths to the datasets we will be using:"
   ]
  },
  {
   "cell_type": "code",
   "execution_count": 50,
   "metadata": {
    "collapsed": true
   },
   "outputs": [],
   "source": [
    "# Adjust this to point to the right file in your computer\n",
    "listings_link = '../data/listings.csv.gz'"
   ]
  },
  {
   "cell_type": "markdown",
   "metadata": {},
   "source": [
    "The core dataset we will use is `listings.csv`, which contains a lot of information about each individual location listed at AirBnb within Austin:"
   ]
  },
  {
   "cell_type": "code",
   "execution_count": 51,
   "metadata": {
    "collapsed": false
   },
   "outputs": [
    {
     "name": "stdout",
     "output_type": "stream",
     "text": [
      "<class 'pandas.core.frame.DataFrame'>\n",
      "RangeIndex: 5835 entries, 0 to 5834\n",
      "Data columns (total 92 columns):\n",
      "id                                  5835 non-null int64\n",
      "listing_url                         5835 non-null object\n",
      "scrape_id                           5835 non-null int64\n",
      "last_scraped                        5835 non-null object\n",
      "name                                5835 non-null object\n",
      "summary                             5373 non-null object\n",
      "space                               4475 non-null object\n",
      "description                         5832 non-null object\n",
      "experiences_offered                 5835 non-null object\n",
      "neighborhood_overview               3572 non-null object\n",
      "notes                               2413 non-null object\n",
      "transit                             3492 non-null object\n",
      "thumbnail_url                       5542 non-null object\n",
      "medium_url                          5542 non-null object\n",
      "picture_url                         5835 non-null object\n",
      "xl_picture_url                      5542 non-null object\n",
      "host_id                             5835 non-null int64\n",
      "host_url                            5835 non-null object\n",
      "host_name                           5820 non-null object\n",
      "host_since                          5820 non-null object\n",
      "host_location                       5810 non-null object\n",
      "host_about                          3975 non-null object\n",
      "host_response_time                  4177 non-null object\n",
      "host_response_rate                  4177 non-null object\n",
      "host_acceptance_rate                3850 non-null object\n",
      "host_is_superhost                   5820 non-null object\n",
      "host_thumbnail_url                  5820 non-null object\n",
      "host_picture_url                    5820 non-null object\n",
      "host_neighbourhood                  4977 non-null object\n",
      "host_listings_count                 5820 non-null float64\n",
      "host_total_listings_count           5820 non-null float64\n",
      "host_verifications                  5835 non-null object\n",
      "host_has_profile_pic                5820 non-null object\n",
      "host_identity_verified              5820 non-null object\n",
      "street                              5835 non-null object\n",
      "neighbourhood                       4800 non-null object\n",
      "neighbourhood_cleansed              5835 non-null int64\n",
      "neighbourhood_group_cleansed        0 non-null float64\n",
      "city                                5835 non-null object\n",
      "state                               5835 non-null object\n",
      "zipcode                             5810 non-null float64\n",
      "market                              5835 non-null object\n",
      "smart_location                      5835 non-null object\n",
      "country_code                        5835 non-null object\n",
      "country                             5835 non-null object\n",
      "latitude                            5835 non-null float64\n",
      "longitude                           5835 non-null float64\n",
      "is_location_exact                   5835 non-null object\n",
      "property_type                       5835 non-null object\n",
      "room_type                           5835 non-null object\n",
      "accommodates                        5835 non-null int64\n",
      "bathrooms                           5789 non-null float64\n",
      "bedrooms                            5829 non-null float64\n",
      "beds                                5812 non-null float64\n",
      "bed_type                            5835 non-null object\n",
      "amenities                           5835 non-null object\n",
      "square_feet                         302 non-null float64\n",
      "price                               5835 non-null object\n",
      "weekly_price                        2227 non-null object\n",
      "monthly_price                       1717 non-null object\n",
      "security_deposit                    2770 non-null object\n",
      "cleaning_fee                        3587 non-null object\n",
      "guests_included                     5835 non-null int64\n",
      "extra_people                        5835 non-null object\n",
      "minimum_nights                      5835 non-null int64\n",
      "maximum_nights                      5835 non-null int64\n",
      "calendar_updated                    5835 non-null object\n",
      "has_availability                    5835 non-null object\n",
      "availability_30                     5835 non-null int64\n",
      "availability_60                     5835 non-null int64\n",
      "availability_90                     5835 non-null int64\n",
      "availability_365                    5835 non-null int64\n",
      "calendar_last_scraped               5835 non-null object\n",
      "number_of_reviews                   5835 non-null int64\n",
      "first_review                        3827 non-null object\n",
      "last_review                         3829 non-null object\n",
      "review_scores_rating                3789 non-null float64\n",
      "review_scores_accuracy              3776 non-null float64\n",
      "review_scores_cleanliness           3778 non-null float64\n",
      "review_scores_checkin               3778 non-null float64\n",
      "review_scores_communication         3778 non-null float64\n",
      "review_scores_location              3779 non-null float64\n",
      "review_scores_value                 3778 non-null float64\n",
      "requires_license                    5835 non-null object\n",
      "license                             1 non-null float64\n",
      "jurisdiction_names                  0 non-null float64\n",
      "instant_bookable                    5835 non-null object\n",
      "cancellation_policy                 5835 non-null object\n",
      "require_guest_profile_picture       5835 non-null object\n",
      "require_guest_phone_verification    5835 non-null object\n",
      "calculated_host_listings_count      5835 non-null int64\n",
      "reviews_per_month                   3827 non-null float64\n",
      "dtypes: float64(20), int64(14), object(58)\n",
      "memory usage: 4.1+ MB\n"
     ]
    }
   ],
   "source": [
    "lst = pd.read_csv(listings_link)\n",
    "lst.info()"
   ]
  },
  {
   "cell_type": "markdown",
   "metadata": {},
   "source": [
    "It turns out that one record displays a very odd location and, for the sake of the illustration, we will remove it:"
   ]
  },
  {
   "cell_type": "code",
   "execution_count": 4,
   "metadata": {
    "collapsed": false
   },
   "outputs": [
    {
     "data": {
      "text/html": [
       "<div>\n",
       "<table border=\"1\" class=\"dataframe\">\n",
       "  <thead>\n",
       "    <tr style=\"text-align: right;\">\n",
       "      <th></th>\n",
       "      <th>longitude</th>\n",
       "      <th>latitude</th>\n",
       "    </tr>\n",
       "  </thead>\n",
       "  <tbody>\n",
       "    <tr>\n",
       "      <th>5832</th>\n",
       "      <td>-5.093682</td>\n",
       "      <td>43.214991</td>\n",
       "    </tr>\n",
       "  </tbody>\n",
       "</table>\n",
       "</div>"
      ],
      "text/plain": [
       "      longitude   latitude\n",
       "5832  -5.093682  43.214991"
      ]
     },
     "execution_count": 4,
     "metadata": {},
     "output_type": "execute_result"
    }
   ],
   "source": [
    "odd = lst.loc[lst.longitude>-80, ['longitude', 'latitude']]\n",
    "odd"
   ]
  },
  {
   "cell_type": "code",
   "execution_count": 5,
   "metadata": {
    "collapsed": false
   },
   "outputs": [],
   "source": [
    "lst = lst.drop(odd.index)"
   ]
  },
  {
   "cell_type": "markdown",
   "metadata": {},
   "source": [
    "## Point Visualization"
   ]
  },
  {
   "cell_type": "markdown",
   "metadata": {},
   "source": [
    "The most straighforward way to get a first glimpse of the distribution of the data is to plot their latitude and longitude:"
   ]
  },
  {
   "cell_type": "code",
   "execution_count": 6,
   "metadata": {
    "collapsed": false
   },
   "outputs": [
    {
     "data": {
      "image/png": "[encoded data removed]",
      "text/plain": [
       "<matplotlib.figure.Figure at 0x7f6cab6c6f10>"
      ]
     },
     "metadata": {},
     "output_type": "display_data"
    }
   ],
   "source": [
    "sns.jointplot(x=\"longitude\", y=\"latitude\", data=lst);"
   ]
  },
  {
   "cell_type": "markdown",
   "metadata": {},
   "source": [
    "Now this does not neccesarily tell us much about the dataset or the distribution of locations within Austin. There are two main challenges in interpreting the plot: one, there is lack of context, which means the points are not identifiable over space (unless you are so familiar with lon/lat pairs that they have a clear meaning to you); and two, in the center of the plot, there are so many points that it is hard to tell any patter other than a big blurb of blue.\n",
    "\n",
    "Let us first focus on the first problem, geographical context. The quickest and easiest way to provide context to this set of points is to overlay a general map. If we had an image with the map or a set of several data sources that we could aggregate to create a map, we could build it from scratch. But in the XXI Century, the easiest is to overlay our point dataset on top of a web map. In this case, we will use [Leaflet](http://leafletjs.com/), and we will convert our underlying `matplotlib` points with `mplleaflet`. The full dataset (+5k observations) is a bit too much for leaflet to plot it directly on screen, so we will obtain a random sample of 100 points:"
   ]
  },
  {
   "cell_type": "code",
   "execution_count": 59,
   "metadata": {
    "collapsed": false
   },
   "outputs": [
    {
     "data": {
      "image/png": "[encoded data removed]",
      "text/plain": [
       "<matplotlib.figure.Figure at 0x7f6c62cb1750>"
      ]
     },
     "metadata": {},
     "output_type": "display_data"
    }
   ],
   "source": [
    "# NOTE: `mpll.display` turned off to be able to compile the website,\n",
    "#       comment out the last line of this cell for rendering Leaflet map.\n",
    "rids = np.arange(lst.shape[0])\n",
    "np.random.shuffle(rids)\n",
    "f, ax = plt.subplots(1, figsize=(6, 6))\n",
    "lst.iloc[rids[:100], :].plot(kind='scatter', x='longitude', y='latitude', \\\n",
    "                      s=30, linewidth=0, ax=ax);\n",
    "#mpll.display(fig=f,)"
   ]
  },
  {
   "cell_type": "markdown",
   "metadata": {},
   "source": [
    "This map allows us to get a much better sense of where the points are and what type of location they might be in. For example, now we can see that the bigh blue blurb has to do with the urbanized core of Austin.\n",
    "\n",
    "### `bokeh` alternative\n",
    "\n",
    "Leaflet is not the only technology to display data on maps, although it is probably the default option in many cases. When the data is larger than \"acceptable\", we need to resort to more technically sophisticated alternatives. One option is provided by `bokeh` and its `datashaded` submodule (see [here](https://anaconda.org/jbednar/nyc_taxi/notebook) for a very nice introduction to the library, from where this example has been adapted).\n",
    "\n",
    "Before we delve into `bokeh`, let us reproject our original data (lon/lat coordinates) into Web Mercator, as `bokeh` will expect them. To do that, we turn the coordinates into a `GeoSeries`:"
   ]
  },
  {
   "cell_type": "code",
   "execution_count": 8,
   "metadata": {
    "collapsed": false
   },
   "outputs": [],
   "source": [
    "from shapely.geometry import Point\n",
    "xys_wb = gpd.GeoSeries(lst[['longitude', 'latitude']].apply(Point, axis=1), \\\n",
    "                      crs=\"+init=epsg:4326\")\n",
    "xys_wb = xys_wb.to_crs(epsg=3857)\n",
    "x_wb = xys_wb.apply(lambda i: i.x)\n",
    "y_wb = xys_wb.apply(lambda i: i.y)"
   ]
  },
  {
   "cell_type": "markdown",
   "metadata": {},
   "source": [
    "Now we are ready to setup the plot in `bokeh`:"
   ]
  },
  {
   "cell_type": "code",
   "execution_count": 9,
   "metadata": {
    "collapsed": false
   },
   "outputs": [
    {
     "data": {
      "text/html": [
       "\n",
       "    <div class=\"bk-banner\">\n",
       "        <a href=\"http://bokeh.pydata.org\" target=\"_blank\" class=\"bk-logo bk-logo-small bk-logo-notebook\"></a>\n",
       "        <span id=\"a0125a61-aa40-4d88-9db2-d2b800c39acb\">Loading BokehJS ...</span>\n",
       "    </div>"
      ]
     },
     "metadata": {},
     "output_type": "display_data"
    },
    {
     "data": {
      "application/javascript": [
       "\n",
       "(function(global) {\n",
       "  function now() {\n",
       "    return new Date();\n",
       "  }\n",
       "\n",
       "  if (typeof (window._bokeh_onload_callbacks) === \"undefined\") {\n",
       "    window._bokeh_onload_callbacks = [];\n",
       "  }\n",
       "\n",
       "  function run_callbacks() {\n",
       "    window._bokeh_onload_callbacks.forEach(function(callback) { callback() });\n",
       "    delete window._bokeh_onload_callbacks\n",
       "    console.info(\"Bokeh: all callbacks have finished\");\n",
       "  }\n",
       "\n",
       "  function load_libs(js_urls, callback) {\n",
       "    window._bokeh_onload_callbacks.push(callback);\n",
       "    if (window._bokeh_is_loading > 0) {\n",
       "      console.log(\"Bokeh: BokehJS is being loaded, scheduling callback at\", now());\n",
       "      return null;\n",
       "    }\n",
       "    if (js_urls == null || js_urls.length === 0) {\n",
       "      run_callbacks();\n",
       "      return null;\n",
       "    }\n",
       "    console.log(\"Bokeh: BokehJS not loaded, scheduling load and callback at\", now());\n",
       "    window._bokeh_is_loading = js_urls.length;\n",
       "    for (var i = 0; i < js_urls.length; i++) {\n",
       "      var url = js_urls[i];\n",
       "      var s = document.createElement('script');\n",
       "      s.src = url;\n",
       "      s.async = false;\n",
       "      s.onreadystatechange = s.onload = function() {\n",
       "        window._bokeh_is_loading--;\n",
       "        if (window._bokeh_is_loading === 0) {\n",
       "          console.log(\"Bokeh: all BokehJS libraries loaded\");\n",
       "          run_callbacks()\n",
       "        }\n",
       "      };\n",
       "      s.onerror = function() {\n",
       "        console.warn(\"failed to load library \" + url);\n",
       "      };\n",
       "      console.log(\"Bokeh: injecting script tag for BokehJS library: \", url);\n",
       "      document.getElementsByTagName(\"head\")[0].appendChild(s);\n",
       "    }\n",
       "  };\n",
       "\n",
       "  var js_urls = ['https://cdn.pydata.org/bokeh/release/bokeh-0.11.1.min.js', 'https://cdn.pydata.org/bokeh/release/bokeh-widgets-0.11.1.min.js', 'https://cdn.pydata.org/bokeh/release/bokeh-compiler-0.11.1.min.js'];\n",
       "\n",
       "  var inline_js = [\n",
       "    function(Bokeh) {\n",
       "      Bokeh.set_log_level(\"info\");\n",
       "    },\n",
       "    \n",
       "    function(Bokeh) {\n",
       "      Bokeh.$(\"#a0125a61-aa40-4d88-9db2-d2b800c39acb\").text(\"BokehJS successfully loaded\");\n",
       "    },\n",
       "    function(Bokeh) {\n",
       "      console.log(\"Bokeh: injecting CSS: https://cdn.pydata.org/bokeh/release/bokeh-0.11.1.min.css\");\n",
       "      Bokeh.embed.inject_css(\"https://cdn.pydata.org/bokeh/release/bokeh-0.11.1.min.css\");\n",
       "      console.log(\"Bokeh: injecting CSS: https://cdn.pydata.org/bokeh/release/bokeh-widgets-0.11.1.min.css\");\n",
       "      Bokeh.embed.inject_css(\"https://cdn.pydata.org/bokeh/release/bokeh-widgets-0.11.1.min.css\");\n",
       "    }\n",
       "  ];\n",
       "\n",
       "  function run_inline_js() {\n",
       "    for (var i = 0; i < inline_js.length; i++) {\n",
       "      inline_js[i](window.Bokeh);\n",
       "    }\n",
       "  }\n",
       "\n",
       "  if (window._bokeh_is_loading === 0) {\n",
       "    console.log(\"Bokeh: BokehJS loaded, going straight to plotting\");\n",
       "    run_inline_js();\n",
       "  } else {\n",
       "    load_libs(js_urls, function() {\n",
       "      console.log(\"Bokeh: BokehJS plotting callback run at\", now());\n",
       "      run_inline_js();\n",
       "    });\n",
       "  }\n",
       "}(this));"
      ]
     },
     "metadata": {},
     "output_type": "display_data"
    }
   ],
   "source": [
    "from bokeh.plotting import figure, output_notebook, show\n",
    "from bokeh.tile_providers import STAMEN_TERRAIN\n",
    "output_notebook()\n",
    "\n",
    "minx, miny, maxx, maxy = xys_wb.total_bounds\n",
    "y_range = miny, maxy\n",
    "x_range = minx, maxx\n",
    "\n",
    "def base_plot(tools='pan,wheel_zoom,reset',plot_width=600, plot_height=400, **plot_args):\n",
    "    p = figure(tools=tools, plot_width=plot_width, plot_height=plot_height,\n",
    "        x_range=x_range, y_range=y_range, outline_line_color=None,\n",
    "        min_border=0, min_border_left=0, min_border_right=0,\n",
    "        min_border_top=0, min_border_bottom=0, **plot_args)\n",
    "    \n",
    "    p.axis.visible = False\n",
    "    p.xgrid.grid_line_color = None\n",
    "    p.ygrid.grid_line_color = None\n",
    "    return p\n",
    "    \n",
    "options = dict(line_color=None, fill_color='#800080', size=4)"
   ]
  },
  {
   "cell_type": "markdown",
   "metadata": {},
   "source": [
    "And good to go for mapping!"
   ]
  },
  {
   "cell_type": "code",
   "execution_count": 52,
   "metadata": {
    "collapsed": false
   },
   "outputs": [
    {
     "data": {
      "text/plain": [
       "<bokeh.models.renderers.GlyphRenderer at 0x7f6c701fa7d0>"
      ]
     },
     "execution_count": 52,
     "metadata": {},
     "output_type": "execute_result"
    }
   ],
   "source": [
    "# NOTE: `show` turned off to be able to compile the website,\n",
    "#       comment out the last line of this cell for rendering.\n",
    "p = base_plot()\n",
    "p.add_tile(STAMEN_TERRAIN)\n",
    "p.circle(x=x_wb, y=y_wb, **options)\n",
    "#show(p)"
   ]
  },
  {
   "cell_type": "markdown",
   "metadata": {},
   "source": [
    "As you can quickly see, `bokeh` is substantially faster at rendering larger amounts of data.\n",
    "\n",
    "The second problem we have spotted with the first scatter is that, when the number of points grows, at some point it becomes impossible to discern anything other than a big blur of color. To some extent, interactivity gets at that problem by allowing the user to zoom in until every point is an entity on its own. However, there exist techniques that allow to summarize the data to be able to capture the overall pattern at once. Traditionally, kernel density estimation (KDE) has been one of the most common solutions by approximating a continuous surface of point intensity. In this context, however, we will explore a more recent alternative suggested by the [`datashader`](https://github.com/bokeh/datashader) library (see the [paper](http://www.crest.iu.edu/publications/prints/2014/Cottam2014OutOfCore.pdf) if interested in more details).\n",
    "\n",
    "Arguably, our dataset is not large enough to justify the use of a reduction technique like datashader, but we will create the plot for the sake of the illustration. Keep in mind, the usefulness of this approach increases the more points you need to be plotting."
   ]
  },
  {
   "cell_type": "code",
   "execution_count": 36,
   "metadata": {
    "collapsed": false
   },
   "outputs": [],
   "source": [
    "# NOTE: `show` turned off to be able to compile the website,\n",
    "#       comment out the last line of this cell for rendering.\n",
    "\n",
    "import datashader as ds\n",
    "from datashader.callbacks import InteractiveImage\n",
    "from datashader.colors import viridis\n",
    "from datashader import transfer_functions as tf\n",
    "from bokeh.tile_providers import STAMEN_TONER\n",
    "\n",
    "p = base_plot()\n",
    "p.add_tile(STAMEN_TONER)\n",
    "\n",
    "pts = pd.DataFrame({'x': x_wb, 'y': y_wb})\n",
    "pts['count'] = 1\n",
    "def create_image90(x_range, y_range, w, h):\n",
    "    cvs = ds.Canvas(plot_width=w, plot_height=h, x_range=x_range, y_range=y_range)\n",
    "    agg = cvs.points(pts, 'x', 'y',  ds.count('count'))\n",
    "    img = tf.interpolate(agg.where(agg > np.percentile(agg,90)), \\\n",
    "                         cmap=viridis, how='eq_hist')\n",
    "    return tf.dynspread(img, threshold=0.1, max_px=4)\n",
    "    \n",
    "#InteractiveImage(p, create_image90)"
   ]
  },
  {
   "cell_type": "markdown",
   "metadata": {},
   "source": [
    "The key advandage of `datashader` is that is decouples the point processing from the plotting. That is the bit that allows it to be scalable to truly large datasets (e.g. millions of points). Essentially, the approach is based on generating a very fine grid, counting points within pixels, and encoding the count into a color scheme. In our map, this is not particularly effective because we do not have too many points (the previous plot is probably a more effective one) and esssentially there is a pixel per location of every point. However, hopefully this example shows how to create this kind of scalable maps."
   ]
  },
  {
   "cell_type": "markdown",
   "metadata": {},
   "source": [
    "## Centrography and distance based statistics"
   ]
  },
  {
   "cell_type": "markdown",
   "metadata": {},
   "source": [
    "## Exercise\n",
    "\n",
    "> *Split the dataset by type of property and create a map for the five most common types.*\n",
    "\n",
    "Consider the following sorting of property types:"
   ]
  },
  {
   "cell_type": "code",
   "execution_count": 46,
   "metadata": {
    "collapsed": false
   },
   "outputs": [
    {
     "data": {
      "text/plain": [
       "property_type\n",
       "House              3549\n",
       "Apartment          1855\n",
       "Condominium         106\n",
       "Loft                 83\n",
       "Townhouse            57\n",
       "Other                47\n",
       "Bed & Breakfast      37\n",
       "Camper/RV            34\n",
       "Bungalow             18\n",
       "Cabin                17\n",
       "Tent                 11\n",
       "Villa                 7\n",
       "Treehouse             7\n",
       "Earth House           2\n",
       "Chalet                1\n",
       "Hut                   1\n",
       "Boat                  1\n",
       "Tipi                  1\n",
       "Name: property_type, dtype: int64"
      ]
     },
     "execution_count": 46,
     "metadata": {},
     "output_type": "execute_result"
    }
   ],
   "source": [
    "lst.property_type.groupby(lst.property_type)\\\n",
    "                 .count()\\\n",
    "                 .sort_values(ascending=False)"
   ]
  }
 ],
 "metadata": {
  "kernelspec": {
   "display_name": "Python 2",
   "language": "python",
   "name": "python2"
  },
  "language_info": {
   "codemirror_mode": {
    "name": "ipython",
    "version": 2
   },
   "file_extension": ".py",
   "mimetype": "text/x-python",
   "name": "python",
   "nbconvert_exporter": "python",
   "pygments_lexer": "ipython2",
   "version": "2.7.11"
  }
 },
 "nbformat": 4,
 "nbformat_minor": 0
}
