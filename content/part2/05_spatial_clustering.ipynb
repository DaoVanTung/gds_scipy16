{
 "cells": [
  {
   "cell_type": "markdown",
   "metadata": {},
   "source": [
    "#  Spatial Clustering"
   ]
  },
  {
   "cell_type": "code",
   "execution_count": 1,
   "metadata": {
    "collapsed": false
   },
   "outputs": [
    {
     "name": "stderr",
     "output_type": "stream",
     "text": [
      "/home/dani/anaconda/envs/pydata/lib/python2.7/site-packages/matplotlib/font_manager.py:273: UserWarning: Matplotlib is building the font cache using fc-list. This may take a moment.\n",
      "  warnings.warn('Matplotlib is building the font cache using fc-list. This may take a moment.')\n"
     ]
    }
   ],
   "source": [
    "%matplotlib inline\n",
    "\n",
    "import pandas as pd"
   ]
  },
  {
   "cell_type": "code",
   "execution_count": 4,
   "metadata": {
    "collapsed": false
   },
   "outputs": [
    {
     "name": "stdout",
     "output_type": "stream",
     "text": [
      "<class 'pandas.core.frame.DataFrame'>\n",
      "RangeIndex: 5835 entries, 0 to 5834\n",
      "Data columns (total 92 columns):\n",
      "id                                  5835 non-null int64\n",
      "listing_url                         5835 non-null object\n",
      "scrape_id                           5835 non-null int64\n",
      "last_scraped                        5835 non-null object\n",
      "name                                5835 non-null object\n",
      "summary                             5373 non-null object\n",
      "space                               4475 non-null object\n",
      "description                         5832 non-null object\n",
      "experiences_offered                 5835 non-null object\n",
      "neighborhood_overview               3572 non-null object\n",
      "notes                               2413 non-null object\n",
      "transit                             3492 non-null object\n",
      "thumbnail_url                       5542 non-null object\n",
      "medium_url                          5542 non-null object\n",
      "picture_url                         5835 non-null object\n",
      "xl_picture_url                      5542 non-null object\n",
      "host_id                             5835 non-null int64\n",
      "host_url                            5835 non-null object\n",
      "host_name                           5820 non-null object\n",
      "host_since                          5820 non-null object\n",
      "host_location                       5810 non-null object\n",
      "host_about                          3975 non-null object\n",
      "host_response_time                  4177 non-null object\n",
      "host_response_rate                  4177 non-null object\n",
      "host_acceptance_rate                3850 non-null object\n",
      "host_is_superhost                   5820 non-null object\n",
      "host_thumbnail_url                  5820 non-null object\n",
      "host_picture_url                    5820 non-null object\n",
      "host_neighbourhood                  4977 non-null object\n",
      "host_listings_count                 5820 non-null float64\n",
      "host_total_listings_count           5820 non-null float64\n",
      "host_verifications                  5835 non-null object\n",
      "host_has_profile_pic                5820 non-null object\n",
      "host_identity_verified              5820 non-null object\n",
      "street                              5835 non-null object\n",
      "neighbourhood                       4800 non-null object\n",
      "neighbourhood_cleansed              5835 non-null int64\n",
      "neighbourhood_group_cleansed        0 non-null float64\n",
      "city                                5835 non-null object\n",
      "state                               5835 non-null object\n",
      "zipcode                             5810 non-null float64\n",
      "market                              5835 non-null object\n",
      "smart_location                      5835 non-null object\n",
      "country_code                        5835 non-null object\n",
      "country                             5835 non-null object\n",
      "latitude                            5835 non-null float64\n",
      "longitude                           5835 non-null float64\n",
      "is_location_exact                   5835 non-null object\n",
      "property_type                       5835 non-null object\n",
      "room_type                           5835 non-null object\n",
      "accommodates                        5835 non-null int64\n",
      "bathrooms                           5789 non-null float64\n",
      "bedrooms                            5829 non-null float64\n",
      "beds                                5812 non-null float64\n",
      "bed_type                            5835 non-null object\n",
      "amenities                           5835 non-null object\n",
      "square_feet                         302 non-null float64\n",
      "price                               5835 non-null object\n",
      "weekly_price                        2227 non-null object\n",
      "monthly_price                       1717 non-null object\n",
      "security_deposit                    2770 non-null object\n",
      "cleaning_fee                        3587 non-null object\n",
      "guests_included                     5835 non-null int64\n",
      "extra_people                        5835 non-null object\n",
      "minimum_nights                      5835 non-null int64\n",
      "maximum_nights                      5835 non-null int64\n",
      "calendar_updated                    5835 non-null object\n",
      "has_availability                    5835 non-null object\n",
      "availability_30                     5835 non-null int64\n",
      "availability_60                     5835 non-null int64\n",
      "availability_90                     5835 non-null int64\n",
      "availability_365                    5835 non-null int64\n",
      "calendar_last_scraped               5835 non-null object\n",
      "number_of_reviews                   5835 non-null int64\n",
      "first_review                        3827 non-null object\n",
      "last_review                         3829 non-null object\n",
      "review_scores_rating                3789 non-null float64\n",
      "review_scores_accuracy              3776 non-null float64\n",
      "review_scores_cleanliness           3778 non-null float64\n",
      "review_scores_checkin               3778 non-null float64\n",
      "review_scores_communication         3778 non-null float64\n",
      "review_scores_location              3779 non-null float64\n",
      "review_scores_value                 3778 non-null float64\n",
      "requires_license                    5835 non-null object\n",
      "license                             1 non-null float64\n",
      "jurisdiction_names                  0 non-null float64\n",
      "instant_bookable                    5835 non-null object\n",
      "cancellation_policy                 5835 non-null object\n",
      "require_guest_profile_picture       5835 non-null object\n",
      "require_guest_phone_verification    5835 non-null object\n",
      "calculated_host_listings_count      5835 non-null int64\n",
      "reviews_per_month                   3827 non-null float64\n",
      "dtypes: float64(20), int64(14), object(58)\n",
      "memory usage: 4.1+ MB\n"
     ]
    }
   ],
   "source": [
    "link = '/home/dani/Desktop/listings.csv'\n",
    "db = pd.read_csv(link)\n",
    "db.info()"
   ]
  }
 ],
 "metadata": {
  "kernelspec": {
   "display_name": "Python 2",
   "language": "python",
   "name": "python2"
  },
  "language_info": {
   "codemirror_mode": {
    "name": "ipython",
    "version": 2
   },
   "file_extension": ".py",
   "mimetype": "text/x-python",
   "name": "python",
   "nbconvert_exporter": "python",
   "pygments_lexer": "ipython2",
   "version": "2.7.11"
  }
 },
 "nbformat": 4,
 "nbformat_minor": 0
}
