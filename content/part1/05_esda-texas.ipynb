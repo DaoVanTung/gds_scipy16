{
 "cells": [
  {
   "cell_type": "code",
   "execution_count": 21,
   "metadata": {
    "collapsed": false
   },
   "outputs": [],
   "source": [
    "import pysal as ps\n",
    "import pandas as pd\n",
    "import numpy as np\n",
    "from pysal.contrib.viz import mapping as maps"
   ]
  },
  {
   "cell_type": "markdown",
   "metadata": {},
   "source": [
    "A well-used functionality in PySAL is the use of PySAL to conduct exploratory spatial data analysis. This notebook will provide an overview of ways to conduct exploratory spatial analysis in Python. "
   ]
  },
  {
   "cell_type": "markdown",
   "metadata": {},
   "source": [
    "First, let's read in some data:"
   ]
  },
  {
   "cell_type": "code",
   "execution_count": 22,
   "metadata": {
    "collapsed": true
   },
   "outputs": [],
   "source": [
    "data = ps.pdio.read_files(\"../data/texas.shp\")\n",
    "W = ps.queen_from_shapefile(\"../data/texas.shp\")\n",
    "W.transform = 'r'"
   ]
  },
  {
   "cell_type": "code",
   "execution_count": 23,
   "metadata": {
    "collapsed": false
   },
   "outputs": [
    {
     "data": {
      "text/html": [
       "<div>\n",
       "<table border=\"1\" class=\"dataframe\">\n",
       "  <thead>\n",
       "    <tr style=\"text-align: right;\">\n",
       "      <th></th>\n",
       "      <th>NAME</th>\n",
       "      <th>STATE_NAME</th>\n",
       "      <th>STATE_FIPS</th>\n",
       "      <th>CNTY_FIPS</th>\n",
       "      <th>FIPS</th>\n",
       "      <th>STFIPS</th>\n",
       "      <th>COFIPS</th>\n",
       "      <th>FIPSNO</th>\n",
       "      <th>SOUTH</th>\n",
       "      <th>HR60</th>\n",
       "      <th>...</th>\n",
       "      <th>BLK90</th>\n",
       "      <th>GI59</th>\n",
       "      <th>GI69</th>\n",
       "      <th>GI79</th>\n",
       "      <th>GI89</th>\n",
       "      <th>FH60</th>\n",
       "      <th>FH70</th>\n",
       "      <th>FH80</th>\n",
       "      <th>FH90</th>\n",
       "      <th>geometry</th>\n",
       "    </tr>\n",
       "  </thead>\n",
       "  <tbody>\n",
       "    <tr>\n",
       "      <th>0</th>\n",
       "      <td>Lipscomb</td>\n",
       "      <td>Texas</td>\n",
       "      <td>48</td>\n",
       "      <td>295</td>\n",
       "      <td>48295</td>\n",
       "      <td>48</td>\n",
       "      <td>295</td>\n",
       "      <td>48295</td>\n",
       "      <td>1</td>\n",
       "      <td>0.0</td>\n",
       "      <td>...</td>\n",
       "      <td>0.031817</td>\n",
       "      <td>0.286929</td>\n",
       "      <td>0.378219</td>\n",
       "      <td>0.407005</td>\n",
       "      <td>0.373005</td>\n",
       "      <td>6.724512</td>\n",
       "      <td>4.5</td>\n",
       "      <td>3.835360</td>\n",
       "      <td>6.093580</td>\n",
       "      <td>&lt;pysal.cg.shapes.Polygon object at 0x7f87aa634...</td>\n",
       "    </tr>\n",
       "    <tr>\n",
       "      <th>1</th>\n",
       "      <td>Sherman</td>\n",
       "      <td>Texas</td>\n",
       "      <td>48</td>\n",
       "      <td>421</td>\n",
       "      <td>48421</td>\n",
       "      <td>48</td>\n",
       "      <td>421</td>\n",
       "      <td>48421</td>\n",
       "      <td>1</td>\n",
       "      <td>0.0</td>\n",
       "      <td>...</td>\n",
       "      <td>0.139958</td>\n",
       "      <td>0.288976</td>\n",
       "      <td>0.359377</td>\n",
       "      <td>0.415453</td>\n",
       "      <td>0.378041</td>\n",
       "      <td>5.665722</td>\n",
       "      <td>1.7</td>\n",
       "      <td>3.253796</td>\n",
       "      <td>3.869407</td>\n",
       "      <td>&lt;pysal.cg.shapes.Polygon object at 0x7f87aa634...</td>\n",
       "    </tr>\n",
       "    <tr>\n",
       "      <th>2</th>\n",
       "      <td>Dallam</td>\n",
       "      <td>Texas</td>\n",
       "      <td>48</td>\n",
       "      <td>111</td>\n",
       "      <td>48111</td>\n",
       "      <td>48</td>\n",
       "      <td>111</td>\n",
       "      <td>48111</td>\n",
       "      <td>1</td>\n",
       "      <td>0.0</td>\n",
       "      <td>...</td>\n",
       "      <td>2.050906</td>\n",
       "      <td>0.331667</td>\n",
       "      <td>0.385996</td>\n",
       "      <td>0.370037</td>\n",
       "      <td>0.376015</td>\n",
       "      <td>7.546049</td>\n",
       "      <td>7.2</td>\n",
       "      <td>9.471366</td>\n",
       "      <td>14.231738</td>\n",
       "      <td>&lt;pysal.cg.shapes.Polygon object at 0x7f87aa634...</td>\n",
       "    </tr>\n",
       "    <tr>\n",
       "      <th>3</th>\n",
       "      <td>Hansford</td>\n",
       "      <td>Texas</td>\n",
       "      <td>48</td>\n",
       "      <td>195</td>\n",
       "      <td>48195</td>\n",
       "      <td>48</td>\n",
       "      <td>195</td>\n",
       "      <td>48195</td>\n",
       "      <td>1</td>\n",
       "      <td>0.0</td>\n",
       "      <td>...</td>\n",
       "      <td>0.000000</td>\n",
       "      <td>0.253527</td>\n",
       "      <td>0.357813</td>\n",
       "      <td>0.393938</td>\n",
       "      <td>0.383924</td>\n",
       "      <td>7.591786</td>\n",
       "      <td>4.7</td>\n",
       "      <td>5.542986</td>\n",
       "      <td>7.125457</td>\n",
       "      <td>&lt;pysal.cg.shapes.Polygon object at 0x7f87aa634...</td>\n",
       "    </tr>\n",
       "    <tr>\n",
       "      <th>4</th>\n",
       "      <td>Ochiltree</td>\n",
       "      <td>Texas</td>\n",
       "      <td>48</td>\n",
       "      <td>357</td>\n",
       "      <td>48357</td>\n",
       "      <td>48</td>\n",
       "      <td>357</td>\n",
       "      <td>48357</td>\n",
       "      <td>1</td>\n",
       "      <td>0.0</td>\n",
       "      <td>...</td>\n",
       "      <td>0.021911</td>\n",
       "      <td>0.236998</td>\n",
       "      <td>0.352940</td>\n",
       "      <td>0.343949</td>\n",
       "      <td>0.374461</td>\n",
       "      <td>5.172414</td>\n",
       "      <td>4.0</td>\n",
       "      <td>4.758392</td>\n",
       "      <td>9.159159</td>\n",
       "      <td>&lt;pysal.cg.shapes.Polygon object at 0x7f87aa634...</td>\n",
       "    </tr>\n",
       "  </tbody>\n",
       "</table>\n",
       "<p>5 rows × 70 columns</p>\n",
       "</div>"
      ],
      "text/plain": [
       "        NAME STATE_NAME STATE_FIPS CNTY_FIPS   FIPS  STFIPS  COFIPS  FIPSNO  \\\n",
       "0   Lipscomb      Texas         48       295  48295      48     295   48295   \n",
       "1    Sherman      Texas         48       421  48421      48     421   48421   \n",
       "2     Dallam      Texas         48       111  48111      48     111   48111   \n",
       "3   Hansford      Texas         48       195  48195      48     195   48195   \n",
       "4  Ochiltree      Texas         48       357  48357      48     357   48357   \n",
       "\n",
       "   SOUTH  HR60                        ...                             BLK90  \\\n",
       "0      1   0.0                        ...                          0.031817   \n",
       "1      1   0.0                        ...                          0.139958   \n",
       "2      1   0.0                        ...                          2.050906   \n",
       "3      1   0.0                        ...                          0.000000   \n",
       "4      1   0.0                        ...                          0.021911   \n",
       "\n",
       "       GI59      GI69      GI79      GI89      FH60  FH70      FH80  \\\n",
       "0  0.286929  0.378219  0.407005  0.373005  6.724512   4.5  3.835360   \n",
       "1  0.288976  0.359377  0.415453  0.378041  5.665722   1.7  3.253796   \n",
       "2  0.331667  0.385996  0.370037  0.376015  7.546049   7.2  9.471366   \n",
       "3  0.253527  0.357813  0.393938  0.383924  7.591786   4.7  5.542986   \n",
       "4  0.236998  0.352940  0.343949  0.374461  5.172414   4.0  4.758392   \n",
       "\n",
       "        FH90                                           geometry  \n",
       "0   6.093580  <pysal.cg.shapes.Polygon object at 0x7f87aa634...  \n",
       "1   3.869407  <pysal.cg.shapes.Polygon object at 0x7f87aa634...  \n",
       "2  14.231738  <pysal.cg.shapes.Polygon object at 0x7f87aa634...  \n",
       "3   7.125457  <pysal.cg.shapes.Polygon object at 0x7f87aa634...  \n",
       "4   9.159159  <pysal.cg.shapes.Polygon object at 0x7f87aa634...  \n",
       "\n",
       "[5 rows x 70 columns]"
      ]
     },
     "execution_count": 23,
     "metadata": {},
     "output_type": "execute_result"
    }
   ],
   "source": [
    "data.head()"
   ]
  },
  {
   "cell_type": "code",
   "execution_count": null,
   "metadata": {
    "collapsed": true
   },
   "outputs": [],
   "source": []
  },
  {
   "cell_type": "code",
   "execution_count": 24,
   "metadata": {
    "collapsed": false
   },
   "outputs": [
    {
     "data": {
      "text/html": [
       "<div>\n",
       "<table border=\"1\" class=\"dataframe\">\n",
       "  <thead>\n",
       "    <tr style=\"text-align: right;\">\n",
       "      <th></th>\n",
       "      <th>NAME</th>\n",
       "      <th>STATE_NAME</th>\n",
       "      <th>STATE_FIPS</th>\n",
       "      <th>CNTY_FIPS</th>\n",
       "      <th>FIPS</th>\n",
       "      <th>STFIPS</th>\n",
       "      <th>COFIPS</th>\n",
       "      <th>FIPSNO</th>\n",
       "      <th>SOUTH</th>\n",
       "      <th>HR60</th>\n",
       "      <th>...</th>\n",
       "      <th>BLK90</th>\n",
       "      <th>GI59</th>\n",
       "      <th>GI69</th>\n",
       "      <th>GI79</th>\n",
       "      <th>GI89</th>\n",
       "      <th>FH60</th>\n",
       "      <th>FH70</th>\n",
       "      <th>FH80</th>\n",
       "      <th>FH90</th>\n",
       "      <th>geometry</th>\n",
       "    </tr>\n",
       "  </thead>\n",
       "  <tbody>\n",
       "    <tr>\n",
       "      <th>0</th>\n",
       "      <td>Lipscomb</td>\n",
       "      <td>Texas</td>\n",
       "      <td>48</td>\n",
       "      <td>295</td>\n",
       "      <td>48295</td>\n",
       "      <td>48</td>\n",
       "      <td>295</td>\n",
       "      <td>48295</td>\n",
       "      <td>1</td>\n",
       "      <td>0.0</td>\n",
       "      <td>...</td>\n",
       "      <td>0.031817</td>\n",
       "      <td>0.286929</td>\n",
       "      <td>0.378219</td>\n",
       "      <td>0.407005</td>\n",
       "      <td>0.373005</td>\n",
       "      <td>6.724512</td>\n",
       "      <td>4.5</td>\n",
       "      <td>3.835360</td>\n",
       "      <td>6.093580</td>\n",
       "      <td>&lt;pysal.cg.shapes.Polygon object at 0x7f87aa634...</td>\n",
       "    </tr>\n",
       "    <tr>\n",
       "      <th>1</th>\n",
       "      <td>Sherman</td>\n",
       "      <td>Texas</td>\n",
       "      <td>48</td>\n",
       "      <td>421</td>\n",
       "      <td>48421</td>\n",
       "      <td>48</td>\n",
       "      <td>421</td>\n",
       "      <td>48421</td>\n",
       "      <td>1</td>\n",
       "      <td>0.0</td>\n",
       "      <td>...</td>\n",
       "      <td>0.139958</td>\n",
       "      <td>0.288976</td>\n",
       "      <td>0.359377</td>\n",
       "      <td>0.415453</td>\n",
       "      <td>0.378041</td>\n",
       "      <td>5.665722</td>\n",
       "      <td>1.7</td>\n",
       "      <td>3.253796</td>\n",
       "      <td>3.869407</td>\n",
       "      <td>&lt;pysal.cg.shapes.Polygon object at 0x7f87aa634...</td>\n",
       "    </tr>\n",
       "    <tr>\n",
       "      <th>2</th>\n",
       "      <td>Dallam</td>\n",
       "      <td>Texas</td>\n",
       "      <td>48</td>\n",
       "      <td>111</td>\n",
       "      <td>48111</td>\n",
       "      <td>48</td>\n",
       "      <td>111</td>\n",
       "      <td>48111</td>\n",
       "      <td>1</td>\n",
       "      <td>0.0</td>\n",
       "      <td>...</td>\n",
       "      <td>2.050906</td>\n",
       "      <td>0.331667</td>\n",
       "      <td>0.385996</td>\n",
       "      <td>0.370037</td>\n",
       "      <td>0.376015</td>\n",
       "      <td>7.546049</td>\n",
       "      <td>7.2</td>\n",
       "      <td>9.471366</td>\n",
       "      <td>14.231738</td>\n",
       "      <td>&lt;pysal.cg.shapes.Polygon object at 0x7f87aa634...</td>\n",
       "    </tr>\n",
       "    <tr>\n",
       "      <th>3</th>\n",
       "      <td>Hansford</td>\n",
       "      <td>Texas</td>\n",
       "      <td>48</td>\n",
       "      <td>195</td>\n",
       "      <td>48195</td>\n",
       "      <td>48</td>\n",
       "      <td>195</td>\n",
       "      <td>48195</td>\n",
       "      <td>1</td>\n",
       "      <td>0.0</td>\n",
       "      <td>...</td>\n",
       "      <td>0.000000</td>\n",
       "      <td>0.253527</td>\n",
       "      <td>0.357813</td>\n",
       "      <td>0.393938</td>\n",
       "      <td>0.383924</td>\n",
       "      <td>7.591786</td>\n",
       "      <td>4.7</td>\n",
       "      <td>5.542986</td>\n",
       "      <td>7.125457</td>\n",
       "      <td>&lt;pysal.cg.shapes.Polygon object at 0x7f87aa634...</td>\n",
       "    </tr>\n",
       "    <tr>\n",
       "      <th>4</th>\n",
       "      <td>Ochiltree</td>\n",
       "      <td>Texas</td>\n",
       "      <td>48</td>\n",
       "      <td>357</td>\n",
       "      <td>48357</td>\n",
       "      <td>48</td>\n",
       "      <td>357</td>\n",
       "      <td>48357</td>\n",
       "      <td>1</td>\n",
       "      <td>0.0</td>\n",
       "      <td>...</td>\n",
       "      <td>0.021911</td>\n",
       "      <td>0.236998</td>\n",
       "      <td>0.352940</td>\n",
       "      <td>0.343949</td>\n",
       "      <td>0.374461</td>\n",
       "      <td>5.172414</td>\n",
       "      <td>4.0</td>\n",
       "      <td>4.758392</td>\n",
       "      <td>9.159159</td>\n",
       "      <td>&lt;pysal.cg.shapes.Polygon object at 0x7f87aa634...</td>\n",
       "    </tr>\n",
       "  </tbody>\n",
       "</table>\n",
       "<p>5 rows × 70 columns</p>\n",
       "</div>"
      ],
      "text/plain": [
       "        NAME STATE_NAME STATE_FIPS CNTY_FIPS   FIPS  STFIPS  COFIPS  FIPSNO  \\\n",
       "0   Lipscomb      Texas         48       295  48295      48     295   48295   \n",
       "1    Sherman      Texas         48       421  48421      48     421   48421   \n",
       "2     Dallam      Texas         48       111  48111      48     111   48111   \n",
       "3   Hansford      Texas         48       195  48195      48     195   48195   \n",
       "4  Ochiltree      Texas         48       357  48357      48     357   48357   \n",
       "\n",
       "   SOUTH  HR60                        ...                             BLK90  \\\n",
       "0      1   0.0                        ...                          0.031817   \n",
       "1      1   0.0                        ...                          0.139958   \n",
       "2      1   0.0                        ...                          2.050906   \n",
       "3      1   0.0                        ...                          0.000000   \n",
       "4      1   0.0                        ...                          0.021911   \n",
       "\n",
       "       GI59      GI69      GI79      GI89      FH60  FH70      FH80  \\\n",
       "0  0.286929  0.378219  0.407005  0.373005  6.724512   4.5  3.835360   \n",
       "1  0.288976  0.359377  0.415453  0.378041  5.665722   1.7  3.253796   \n",
       "2  0.331667  0.385996  0.370037  0.376015  7.546049   7.2  9.471366   \n",
       "3  0.253527  0.357813  0.393938  0.383924  7.591786   4.7  5.542986   \n",
       "4  0.236998  0.352940  0.343949  0.374461  5.172414   4.0  4.758392   \n",
       "\n",
       "        FH90                                           geometry  \n",
       "0   6.093580  <pysal.cg.shapes.Polygon object at 0x7f87aa634...  \n",
       "1   3.869407  <pysal.cg.shapes.Polygon object at 0x7f87aa634...  \n",
       "2  14.231738  <pysal.cg.shapes.Polygon object at 0x7f87aa634...  \n",
       "3   7.125457  <pysal.cg.shapes.Polygon object at 0x7f87aa634...  \n",
       "4   9.159159  <pysal.cg.shapes.Polygon object at 0x7f87aa634...  \n",
       "\n",
       "[5 rows x 70 columns]"
      ]
     },
     "execution_count": 24,
     "metadata": {},
     "output_type": "execute_result"
    }
   ],
   "source": [
    "data.head()"
   ]
  },
  {
   "cell_type": "code",
   "execution_count": 25,
   "metadata": {
    "collapsed": true
   },
   "outputs": [],
   "source": [
    "data = ps.pdio.read_files(\"../data/texas.shp\")\n",
    "W = ps.queen_from_shapefile(\"../data/texas.shp\")\n",
    "W.transform = 'r'"
   ]
  },
  {
   "cell_type": "code",
   "execution_count": 28,
   "metadata": {
    "collapsed": false
   },
   "outputs": [
    {
     "data": {
      "image/png": "[encoded data removed]",
      "text/plain": [
       "<matplotlib.figure.Figure at 0x7f87ab37b630>"
      ]
     },
     "metadata": {},
     "output_type": "display_data"
    }
   ],
   "source": [
    "shp_link = \"../data/texas.shp\"\n",
    "maps.plot_choropleth(shp_link, data.HR90, 'quantiles', title='HR90 Quantiles')"
   ]
  },
  {
   "cell_type": "markdown",
   "metadata": {},
   "source": [
    "In PySAL, commonly-used analysis methods are very easy to access. For example, if we were interested in examining the spatial dependence in `HR90` we could quickly compute a Moran's $I$ statistic:"
   ]
  },
  {
   "cell_type": "code",
   "execution_count": 29,
   "metadata": {
    "collapsed": true
   },
   "outputs": [],
   "source": [
    "I_HR90 = ps.Moran(data.HR90.values, W)"
   ]
  },
  {
   "cell_type": "code",
   "execution_count": 30,
   "metadata": {
    "collapsed": false
   },
   "outputs": [
    {
     "data": {
      "text/plain": [
       "(0.085976640313889768, 0.0080000000000000002)"
      ]
     },
     "execution_count": 30,
     "metadata": {},
     "output_type": "execute_result"
    }
   ],
   "source": [
    "I_HR90.I, I_HR90.p_sim"
   ]
  },
  {
   "cell_type": "markdown",
   "metadata": {},
   "source": [
    "Thus, the $I$ statistic is $0.859$ for this data, and has a very small $p$ value. "
   ]
  },
  {
   "cell_type": "markdown",
   "metadata": {},
   "source": [
    "We can visualize the distribution of simulated $I$ statistics using the stored collection of simulated statistics:"
   ]
  },
  {
   "cell_type": "code",
   "execution_count": 31,
   "metadata": {
    "collapsed": false
   },
   "outputs": [
    {
     "data": {
      "text/plain": [
       "array([-0.02658786, -0.01311632, -0.03532385,  0.01817556,  0.01492753])"
      ]
     },
     "execution_count": 31,
     "metadata": {},
     "output_type": "execute_result"
    }
   ],
   "source": [
    "I_HR90.sim[0:5]"
   ]
  },
  {
   "cell_type": "markdown",
   "metadata": {},
   "source": [
    "A simple way to visualize this distribution is to make a KDEplot (like we've done before), and add a rug showing all of the simulated points, and a vertical line denoting the observed value of the statistic:"
   ]
  },
  {
   "cell_type": "code",
   "execution_count": 32,
   "metadata": {
    "collapsed": false
   },
   "outputs": [],
   "source": [
    "import matplotlib.pyplot as plt\n",
    "import seaborn as sns\n",
    "%matplotlib inline"
   ]
  },
  {
   "cell_type": "code",
   "execution_count": 38,
   "metadata": {
    "collapsed": false
   },
   "outputs": [
    {
     "data": {
      "text/plain": [
       "(-0.15, 0.15)"
      ]
     },
     "execution_count": 38,
     "metadata": {},
     "output_type": "execute_result"
    },
    {
     "data": {
      "image/png": "[encoded data removed]",
      "text/plain": [
       "<matplotlib.figure.Figure at 0x7f87aa9344a8>"
      ]
     },
     "metadata": {},
     "output_type": "display_data"
    }
   ],
   "source": [
    "sns.kdeplot(I_HR90.sim, shade=True)\n",
    "plt.vlines(I_HR90.sim, 0, 0.5)\n",
    "plt.vlines(I_HR90.I, 0, 10, 'r')\n",
    "plt.xlim([-0.15, 0.15])"
   ]
  },
  {
   "cell_type": "markdown",
   "metadata": {},
   "source": [
    "Instead, if our $I$ statistic were close to our expected value, `I_HR90.EI`, our plot might look like this:"
   ]
  },
  {
   "cell_type": "code",
   "execution_count": 41,
   "metadata": {
    "collapsed": false
   },
   "outputs": [
    {
     "data": {
      "text/plain": [
       "(-0.15, 0.15)"
      ]
     },
     "execution_count": 41,
     "metadata": {},
     "output_type": "execute_result"
    },
    {
     "data": {
      "image/png": "[encoded data removed]",
      "text/plain": [
       "<matplotlib.figure.Figure at 0x7f87ab70f6d8>"
      ]
     },
     "metadata": {},
     "output_type": "display_data"
    }
   ],
   "source": [
    "sns.kdeplot(I_HR90.sim, shade=True)\n",
    "plt.vlines(I_HR90.sim, 0, 1)\n",
    "plt.vlines(I_HR90.EI+.01, 0, 10, 'r')\n",
    "plt.xlim([-0.15, 0.15])"
   ]
  },
  {
   "cell_type": "markdown",
   "metadata": {},
   "source": [
    "In addition, we can compute a global Bivariate Moran statistic, which relates an observation to the spatial lag of another observation:"
   ]
  },
  {
   "cell_type": "code",
   "execution_count": 42,
   "metadata": {
    "collapsed": false
   },
   "outputs": [],
   "source": [
    "bv_HRBLK = ps.Moran_BV(data.HR90.values, data.BLK90.values, W)"
   ]
  },
  {
   "cell_type": "code",
   "execution_count": 43,
   "metadata": {
    "collapsed": false
   },
   "outputs": [
    {
     "data": {
      "text/plain": [
       "(0.080041444794258343, 0.0089999999999999993)"
      ]
     },
     "execution_count": 43,
     "metadata": {},
     "output_type": "execute_result"
    }
   ],
   "source": [
    "bv_HRBLK.I, bv_HRBLK.p_sim"
   ]
  },
  {
   "cell_type": "markdown",
   "metadata": {},
   "source": [
    "### Local Autocorrelation Statistics"
   ]
  },
  {
   "cell_type": "markdown",
   "metadata": {},
   "source": [
    "In addition to the Global autocorrelation statistics, PySAL has many local autocorrelation statistics. Let's compute a local Moran statistic for the same data shown above:"
   ]
  },
  {
   "cell_type": "code",
   "execution_count": 44,
   "metadata": {
    "collapsed": true
   },
   "outputs": [],
   "source": [
    "LMo_HR90 = ps.Moran_Local(data.HR90.values, W)"
   ]
  },
  {
   "cell_type": "markdown",
   "metadata": {},
   "source": [
    "Now, instead of a single $I$ statistic, we have an *array* of local $I_i$ statistics, stored in the `.Is` attribute, and p-values from the simulation are in `p_sim`. "
   ]
  },
  {
   "cell_type": "code",
   "execution_count": 45,
   "metadata": {
    "collapsed": false
   },
   "outputs": [
    {
     "data": {
      "text/plain": [
       "(array([  1.12087323e+00,   4.74852232e-01,  -1.22758423e+00,\n",
       "          9.38686608e-01,   6.89742960e-01,   7.85031726e-01,\n",
       "          7.10475151e-01,   4.10606860e-01,   7.40368367e-03,\n",
       "          1.48663520e-01,  -5.99072474e-01,   8.11752611e-02,\n",
       "         -1.20482997e-01,   3.18800252e-01,   3.47276792e-01,\n",
       "          4.39609038e-02,  -3.04514513e-01,   2.01610062e-01,\n",
       "          2.85061414e-01,   5.84462378e-01,   7.56336432e-01,\n",
       "          3.83077442e-01,   3.99898754e-03,  -9.16855756e-01,\n",
       "         -4.87000938e-02,   1.46381951e-02,  -1.20220927e-01,\n",
       "         -7.65176192e-01,  -2.57853261e+00,   2.03465774e-01,\n",
       "         -1.00025313e-02,   1.51706786e-01,   4.93433817e-01,\n",
       "          4.35124305e-01,  -3.12259940e-01,  -2.32723324e-01,\n",
       "          2.82455741e-03,   1.22002377e-01,  -1.27741850e-02,\n",
       "         -3.54088100e-04,  -9.99830522e-03,  -4.29411693e-02,\n",
       "          1.14955949e-01,  -5.76707109e-01,  -5.79367567e-01,\n",
       "         -2.44357064e-01,  -2.45937883e-02,   1.28248005e-01,\n",
       "          2.40904907e-01,  -1.30657056e+00,   8.75684587e-02,\n",
       "          7.60257313e-01,   7.46769544e-03,   8.46525604e-02,\n",
       "         -9.91242446e-02,  -3.63476666e-03,  -1.84994288e-01,\n",
       "          6.10806717e-02,  -4.10962997e-01,  -1.55435599e-02,\n",
       "          3.34932522e-01,   5.84998647e-01,   3.97457030e-01,\n",
       "          4.84549106e-01,  -7.05237462e-01,  -1.89267505e-01,\n",
       "         -5.36300770e-01,   2.18228666e-01,   2.45387767e-01,\n",
       "          1.04747657e+00,  -5.03740235e-02,  -4.99501600e-01,\n",
       "         -6.79039774e-02,  -4.28204631e-01,  -5.19255631e-02,\n",
       "          1.62667971e-01,   3.96182300e-02,   1.39001221e-01,\n",
       "          7.85033384e-01,  -6.34873174e-02,  -2.05239166e-01,\n",
       "          6.70092095e-01,   1.19432435e-01,   8.33565709e-02,\n",
       "          6.08109031e-02,   4.71129836e-02,  -7.53103370e-01,\n",
       "          4.12179684e-01,   4.18690212e-01,  -1.24823445e-01,\n",
       "         -2.20055897e-01,   8.71366261e-01,  -8.79710509e-02,\n",
       "          1.68820593e-03,   1.07166595e-02,  -3.54370029e-02,\n",
       "          1.20592772e-03,   2.34359115e-01,   1.74921357e-01,\n",
       "         -1.82542919e-01,  -2.17921039e-01,  -1.29920391e-03,\n",
       "         -5.76690555e-02,   1.45723641e-01,   3.62521949e-01,\n",
       "          4.39212267e-02,   1.62791100e-01,   2.34754317e-01,\n",
       "          4.24252755e-02,  -7.44382557e-01,   1.01380671e-01,\n",
       "          1.68446607e-01,   1.36810620e-01,   4.56977527e-02,\n",
       "          6.92868233e-02,   3.82546883e-02,   1.23206557e-01,\n",
       "          5.81014061e-01,   6.19044577e-01,   5.97840100e-02,\n",
       "          6.02552478e-01,   1.98331508e-01,  -2.08124490e-01,\n",
       "          2.89307856e-01,   2.94694807e-01,   3.17901639e-01,\n",
       "          3.26156089e-01,   3.01034558e-01,   1.49504893e-01,\n",
       "          1.95148623e+00,  -2.54303828e-01,   5.08956169e-01,\n",
       "          6.08264082e-01,  -3.81888449e-02,  -3.00282633e-01,\n",
       "         -2.65739969e-02,   2.24230408e-01,  -1.44008615e-02,\n",
       "          4.66594113e-01,  -4.31489357e-02,   1.87061533e-02,\n",
       "          1.45607307e-01,   2.47182058e-03,  -6.64057756e-01,\n",
       "          1.54192078e-02,   2.36636263e-01,  -8.45056351e-03,\n",
       "         -1.34851321e-01,   1.18537899e-01,  -2.27964598e-01,\n",
       "         -4.18648686e-01,   3.39507930e-01,  -2.63719989e-02,\n",
       "          1.55681623e-01,   1.22301226e-01,   1.77438253e-01,\n",
       "          4.10677287e-02,   1.49101636e-01,   1.04297773e-01,\n",
       "         -7.67634652e-02,  -5.64248729e-03,  -3.05586580e-02,\n",
       "          5.53503759e-02,   1.37140043e-02,   1.29212068e+00,\n",
       "         -8.56707799e-02,   2.62786886e-01,  -6.36623531e-01,\n",
       "         -3.90746796e-01,   2.74114791e-02,  -3.42998234e-02,\n",
       "          1.96470454e-02,   2.66085647e-01,  -5.86103398e-01,\n",
       "         -1.40050219e-01,  -9.58183688e-02,   1.06002105e-01,\n",
       "          5.78305864e-02,   9.12034797e-02,   1.75316202e-01,\n",
       "          1.53146979e+00,   2.55223569e-01,  -1.07521719e+00,\n",
       "          2.10421553e-01,   1.79559685e-03,   2.46623711e-01,\n",
       "         -1.37221563e-01,  -1.93104397e-01,  -6.70944099e-01,\n",
       "         -6.21994147e-01,   2.62134357e-01,   8.44258361e-02,\n",
       "          2.15034457e-03,  -1.13695914e-02,  -9.85881978e-01,\n",
       "         -3.88051312e-02,  -3.94113412e-02,   2.54665339e-01,\n",
       "          1.03033517e-01,   1.87014888e-01,   6.57921237e-02,\n",
       "          8.93885114e-01,  -4.12463002e-02,   5.93523798e-04,\n",
       "         -7.48641130e-01,  -2.33977229e-01,  -1.81364976e-01,\n",
       "         -2.12719096e-02,  -1.77624803e-01,   7.56458111e-01,\n",
       "          4.65743492e-02,  -1.17037830e-02,   1.42744115e-01,\n",
       "         -2.52132245e-01,   2.20273885e-02,   1.32249407e-01,\n",
       "          1.50840035e-02,   1.58872364e-01,  -3.07330315e-01,\n",
       "         -2.15826555e-01,   7.78727321e-01,   1.53798953e-01,\n",
       "          1.39830232e-02,   1.14430614e-02,  -4.13603775e-01,\n",
       "         -1.13601903e-01,   3.98036147e-02,   5.00495648e-02,\n",
       "          1.85345062e-02,   8.20513963e-01,  -2.85154006e-03,\n",
       "          3.37194545e-01,  -6.54881438e-01,   2.87571205e-01,\n",
       "          3.40025967e+00,   2.79223250e+00,   2.18713536e-01,\n",
       "          2.57852929e-01,   1.00405907e-01,   1.92499398e-01,\n",
       "          9.07540052e-02,   1.49438551e-01,   1.33219486e+00,\n",
       "          9.58722126e-03,  -9.26242513e-02,   1.26208606e-01,\n",
       "          3.53039195e-01,   1.91842139e-01,  -2.84025227e-03,\n",
       "          2.62219645e-01,   1.87256013e-01,   2.39837728e-03,\n",
       "          8.94400168e-02,  -1.39329420e-01]),\n",
       " array([ 0.011,  0.179,  0.027,  0.015,  0.002,  0.007,  0.057,  0.063,\n",
       "         0.458,  0.131,  0.089,  0.295,  0.025,  0.004,  0.27 ,  0.452,\n",
       "         0.24 ,  0.368,  0.264,  0.018,  0.064,  0.042,  0.257,  0.036,\n",
       "         0.433,  0.147,  0.189,  0.119,  0.054,  0.232,  0.305,  0.085,\n",
       "         0.031,  0.015,  0.232,  0.283,  0.453,  0.259,  0.486,  0.456,\n",
       "         0.374,  0.192,  0.349,  0.098,  0.088,  0.288,  0.081,  0.287,\n",
       "         0.03 ,  0.011,  0.45 ,  0.047,  0.492,  0.342,  0.052,  0.448,\n",
       "         0.138,  0.112,  0.074,  0.452,  0.212,  0.042,  0.039,  0.104,\n",
       "         0.032,  0.17 ,  0.004,  0.339,  0.051,  0.022,  0.339,  0.127,\n",
       "         0.425,  0.222,  0.356,  0.139,  0.447,  0.334,  0.187,  0.049,\n",
       "         0.329,  0.048,  0.135,  0.461,  0.135,  0.475,  0.016,  0.04 ,\n",
       "         0.203,  0.254,  0.269,  0.121,  0.106,  0.428,  0.432,  0.494,\n",
       "         0.478,  0.15 ,  0.024,  0.042,  0.057,  0.018,  0.044,  0.139,\n",
       "         0.194,  0.286,  0.06 ,  0.225,  0.155,  0.121,  0.076,  0.22 ,\n",
       "         0.156,  0.27 ,  0.061,  0.345,  0.061,  0.077,  0.071,  0.062,\n",
       "         0.104,  0.279,  0.131,  0.288,  0.116,  0.054,  0.096,  0.066,\n",
       "         0.23 ,  0.203,  0.041,  0.226,  0.018,  0.239,  0.382,  0.478,\n",
       "         0.084,  0.193,  0.168,  0.391,  0.003,  0.225,  0.114,  0.099,\n",
       "         0.42 ,  0.303,  0.306,  0.075,  0.374,  0.039,  0.2  ,  0.158,\n",
       "         0.267,  0.368,  0.119,  0.173,  0.07 ,  0.26 ,  0.122,  0.36 ,\n",
       "         0.478,  0.215,  0.225,  0.435,  0.016,  0.369,  0.056,  0.1  ,\n",
       "         0.351,  0.355,  0.274,  0.479,  0.095,  0.163,  0.294,  0.29 ,\n",
       "         0.29 ,  0.402,  0.436,  0.36 ,  0.067,  0.248,  0.058,  0.083,\n",
       "         0.469,  0.086,  0.308,  0.182,  0.084,  0.067,  0.063,  0.206,\n",
       "         0.497,  0.444,  0.014,  0.302,  0.227,  0.224,  0.212,  0.286,\n",
       "         0.185,  0.132,  0.381,  0.421,  0.318,  0.161,  0.207,  0.404,\n",
       "         0.076,  0.037,  0.175,  0.135,  0.377,  0.347,  0.077,  0.253,\n",
       "         0.401,  0.136,  0.244,  0.08 ,  0.08 ,  0.108,  0.31 ,  0.5  ,\n",
       "         0.008,  0.275,  0.41 ,  0.226,  0.46 ,  0.002,  0.178,  0.258,\n",
       "         0.077,  0.035,  0.014,  0.062,  0.013,  0.127,  0.305,  0.001,\n",
       "         0.13 ,  0.25 ,  0.012,  0.48 ,  0.289,  0.267,  0.109,  0.132,\n",
       "         0.364,  0.329,  0.319,  0.449,  0.384,  0.391]))"
      ]
     },
     "execution_count": 45,
     "metadata": {},
     "output_type": "execute_result"
    }
   ],
   "source": [
    "LMo_HR90.Is, LMo_HR90.p_sim"
   ]
  },
  {
   "cell_type": "markdown",
   "metadata": {},
   "source": [
    "We can adjust the number of permutations used to derive every *pseudo*-$p$ value by passing a different `permutations` argument:"
   ]
  },
  {
   "cell_type": "code",
   "execution_count": 46,
   "metadata": {
    "collapsed": true
   },
   "outputs": [],
   "source": [
    "LMo_HR90 = ps.Moran_Local(data.HR90.values, W, permutations=9999)"
   ]
  },
  {
   "cell_type": "markdown",
   "metadata": {},
   "source": [
    "In addition to the typical clustermap, a helpful visualization for LISA statistics is a Moran scatterplot with statistically significant LISA values highlighted. \n",
    "\n",
    "This is very simple, if we use the same strategy we used before:\n",
    "\n",
    "First, construct the spatial lag of the covariate:"
   ]
  },
  {
   "cell_type": "code",
   "execution_count": 47,
   "metadata": {
    "collapsed": false
   },
   "outputs": [],
   "source": [
    "Lag_HR90 = ps.lag_spatial(W, data.HR90.values)\n",
    "HR90 = data.HR90.values"
   ]
  },
  {
   "cell_type": "markdown",
   "metadata": {},
   "source": [
    "Then, we want to plot the statistically-significant LISA values in a different color than the others. To do this, first find all of the statistically significant LISAs. Since the $p$-values are in the same order as the $I_i$ statistics, we can do this in the following way"
   ]
  },
  {
   "cell_type": "code",
   "execution_count": 48,
   "metadata": {
    "collapsed": false
   },
   "outputs": [],
   "source": [
    "sigs = HR90[LMo_HR90.p_sim <= .001]\n",
    "W_sigs = Lag_HR90[LMo_HR90.p_sim <= .001]\n",
    "insigs = HR90[LMo_HR90.p_sim > .001]\n",
    "W_insigs = Lag_HR90[LMo_HR90.p_sim > .001]"
   ]
  },
  {
   "cell_type": "markdown",
   "metadata": {},
   "source": [
    "Then, since we have a lot of points, we can plot the points with a statistically insignficant LISA value lighter using the `alpha` keyword. In addition, we would like to plot the statistically significant points in a dark red color. "
   ]
  },
  {
   "cell_type": "code",
   "execution_count": 49,
   "metadata": {
    "collapsed": false
   },
   "outputs": [],
   "source": [
    "b,a = np.polyfit(HR90, Lag_HR90, 1)"
   ]
  },
  {
   "cell_type": "markdown",
   "metadata": {},
   "source": [
    "Matplotlib has a list of [named colors](http://matplotlib.org/examples/color/named_colors.html) and will interpret colors that are provided in hexadecimal strings:"
   ]
  },
  {
   "cell_type": "code",
   "execution_count": 50,
   "metadata": {
    "collapsed": false
   },
   "outputs": [
    {
     "data": {
      "text/plain": [
       "<matplotlib.text.Text at 0x7f87abc41cf8>"
      ]
     },
     "execution_count": 50,
     "metadata": {},
     "output_type": "execute_result"
    },
    {
     "data": {
      "image/png": "[encoded data removed]",
      "text/plain": [
       "<matplotlib.figure.Figure at 0x7f87abc25710>"
      ]
     },
     "metadata": {},
     "output_type": "display_data"
    }
   ],
   "source": [
    "plt.plot(sigs, W_sigs, '.', color='firebrick')\n",
    "plt.plot(insigs, W_insigs, '.k', alpha=.2)\n",
    " # dashed vert at mean of the last year's PCI\n",
    "plt.vlines(HR90.mean(), Lag_HR90.min(), Lag_HR90.max(), linestyle='--')\n",
    " # dashed horizontal at mean of lagged PCI\n",
    "plt.hlines(Lag_HR90.mean(), HR90.min(), HR90.max(), linestyle='--')\n",
    "\n",
    "# red line of best fit using global I as slope\n",
    "plt.plot(HR90, a + b*HR90, 'r')\n",
    "plt.text(s='$I = %.3f$' % I_HR90.I, x=50, y=15, fontsize=18)\n",
    "plt.title('Moran Scatterplot')\n",
    "plt.ylabel('Spatial Lag of HR90')\n",
    "plt.xlabel('HR90')"
   ]
  },
  {
   "cell_type": "markdown",
   "metadata": {},
   "source": [
    "We can also make a LISA map of the data. "
   ]
  },
  {
   "cell_type": "code",
   "execution_count": 57,
   "metadata": {
    "collapsed": false
   },
   "outputs": [],
   "source": [
    "sig = LMo_HR90.p_sim < 0.05"
   ]
  },
  {
   "cell_type": "code",
   "execution_count": 58,
   "metadata": {
    "collapsed": false
   },
   "outputs": [
    {
     "data": {
      "text/plain": [
       "43"
      ]
     },
     "execution_count": 58,
     "metadata": {},
     "output_type": "execute_result"
    }
   ],
   "source": [
    "sig.sum()"
   ]
  },
  {
   "cell_type": "code",
   "execution_count": 62,
   "metadata": {
    "collapsed": false
   },
   "outputs": [],
   "source": [
    "hotspots = LMo_HR90.q==1 * sig"
   ]
  },
  {
   "cell_type": "code",
   "execution_count": 63,
   "metadata": {
    "collapsed": false
   },
   "outputs": [
    {
     "data": {
      "text/plain": [
       "10"
      ]
     },
     "execution_count": 63,
     "metadata": {},
     "output_type": "execute_result"
    }
   ],
   "source": [
    "hotspots.sum()"
   ]
  },
  {
   "cell_type": "code",
   "execution_count": 64,
   "metadata": {
    "collapsed": true
   },
   "outputs": [],
   "source": [
    "coldspots = LMo_HR90.q==3 * sig"
   ]
  },
  {
   "cell_type": "code",
   "execution_count": 65,
   "metadata": {
    "collapsed": false
   },
   "outputs": [
    {
     "data": {
      "text/plain": [
       "16"
      ]
     },
     "execution_count": 65,
     "metadata": {},
     "output_type": "execute_result"
    }
   ],
   "source": [
    "coldspots.sum()"
   ]
  },
  {
   "cell_type": "code",
   "execution_count": 66,
   "metadata": {
    "collapsed": false
   },
   "outputs": [
    {
     "data": {
      "text/plain": [
       "98      9.784698\n",
       "132    11.435106\n",
       "164    17.129154\n",
       "166    11.148272\n",
       "209    13.274924\n",
       "229    12.371338\n",
       "234    31.721863\n",
       "236     9.584971\n",
       "239     9.256549\n",
       "242    18.062652\n",
       "Name: HR90, dtype: float64"
      ]
     },
     "execution_count": 66,
     "metadata": {},
     "output_type": "execute_result"
    }
   ],
   "source": [
    "data.HR90[hotspots]"
   ]
  },
  {
   "cell_type": "code",
   "execution_count": 67,
   "metadata": {
    "collapsed": false
   },
   "outputs": [
    {
     "data": {
      "text/html": [
       "<div>\n",
       "<table border=\"1\" class=\"dataframe\">\n",
       "  <thead>\n",
       "    <tr style=\"text-align: right;\">\n",
       "      <th></th>\n",
       "      <th>NAME</th>\n",
       "      <th>STATE_NAME</th>\n",
       "      <th>STATE_FIPS</th>\n",
       "      <th>CNTY_FIPS</th>\n",
       "      <th>FIPS</th>\n",
       "      <th>STFIPS</th>\n",
       "      <th>COFIPS</th>\n",
       "      <th>FIPSNO</th>\n",
       "      <th>SOUTH</th>\n",
       "      <th>HR60</th>\n",
       "      <th>...</th>\n",
       "      <th>BLK90</th>\n",
       "      <th>GI59</th>\n",
       "      <th>GI69</th>\n",
       "      <th>GI79</th>\n",
       "      <th>GI89</th>\n",
       "      <th>FH60</th>\n",
       "      <th>FH70</th>\n",
       "      <th>FH80</th>\n",
       "      <th>FH90</th>\n",
       "      <th>geometry</th>\n",
       "    </tr>\n",
       "  </thead>\n",
       "  <tbody>\n",
       "    <tr>\n",
       "      <th>98</th>\n",
       "      <td>Ellis</td>\n",
       "      <td>Texas</td>\n",
       "      <td>48</td>\n",
       "      <td>139</td>\n",
       "      <td>48139</td>\n",
       "      <td>48</td>\n",
       "      <td>139</td>\n",
       "      <td>48139</td>\n",
       "      <td>1</td>\n",
       "      <td>9.217652</td>\n",
       "      <td>...</td>\n",
       "      <td>10.009746</td>\n",
       "      <td>0.325785</td>\n",
       "      <td>0.365177</td>\n",
       "      <td>0.352516</td>\n",
       "      <td>0.372783</td>\n",
       "      <td>12.418831</td>\n",
       "      <td>10.5</td>\n",
       "      <td>9.076165</td>\n",
       "      <td>12.031635</td>\n",
       "      <td>&lt;pysal.cg.shapes.Polygon object at 0x7f87aad1b...</td>\n",
       "    </tr>\n",
       "    <tr>\n",
       "      <th>132</th>\n",
       "      <td>Hudspeth</td>\n",
       "      <td>Texas</td>\n",
       "      <td>48</td>\n",
       "      <td>229</td>\n",
       "      <td>48229</td>\n",
       "      <td>48</td>\n",
       "      <td>229</td>\n",
       "      <td>48229</td>\n",
       "      <td>1</td>\n",
       "      <td>9.971084</td>\n",
       "      <td>...</td>\n",
       "      <td>0.514580</td>\n",
       "      <td>0.312484</td>\n",
       "      <td>0.373474</td>\n",
       "      <td>0.440944</td>\n",
       "      <td>0.476631</td>\n",
       "      <td>14.115899</td>\n",
       "      <td>7.7</td>\n",
       "      <td>8.959538</td>\n",
       "      <td>11.363636</td>\n",
       "      <td>&lt;pysal.cg.shapes.Polygon object at 0x7f87aace9...</td>\n",
       "    </tr>\n",
       "    <tr>\n",
       "      <th>164</th>\n",
       "      <td>Jeff Davis</td>\n",
       "      <td>Texas</td>\n",
       "      <td>48</td>\n",
       "      <td>243</td>\n",
       "      <td>48243</td>\n",
       "      <td>48</td>\n",
       "      <td>243</td>\n",
       "      <td>48243</td>\n",
       "      <td>1</td>\n",
       "      <td>0.000000</td>\n",
       "      <td>...</td>\n",
       "      <td>0.359712</td>\n",
       "      <td>0.316019</td>\n",
       "      <td>0.367719</td>\n",
       "      <td>0.437014</td>\n",
       "      <td>0.399655</td>\n",
       "      <td>14.438503</td>\n",
       "      <td>10.1</td>\n",
       "      <td>5.970149</td>\n",
       "      <td>8.255159</td>\n",
       "      <td>&lt;pysal.cg.shapes.Polygon object at 0x7f87aace9...</td>\n",
       "    </tr>\n",
       "    <tr>\n",
       "      <th>166</th>\n",
       "      <td>Schleicher</td>\n",
       "      <td>Texas</td>\n",
       "      <td>48</td>\n",
       "      <td>413</td>\n",
       "      <td>48413</td>\n",
       "      <td>48</td>\n",
       "      <td>413</td>\n",
       "      <td>48413</td>\n",
       "      <td>1</td>\n",
       "      <td>0.000000</td>\n",
       "      <td>...</td>\n",
       "      <td>0.903010</td>\n",
       "      <td>0.300170</td>\n",
       "      <td>0.387936</td>\n",
       "      <td>0.419192</td>\n",
       "      <td>0.419375</td>\n",
       "      <td>10.155148</td>\n",
       "      <td>9.8</td>\n",
       "      <td>7.222914</td>\n",
       "      <td>8.363636</td>\n",
       "      <td>&lt;pysal.cg.shapes.Polygon object at 0x7f87aace3...</td>\n",
       "    </tr>\n",
       "    <tr>\n",
       "      <th>209</th>\n",
       "      <td>Chambers</td>\n",
       "      <td>Texas</td>\n",
       "      <td>48</td>\n",
       "      <td>071</td>\n",
       "      <td>48071</td>\n",
       "      <td>48</td>\n",
       "      <td>71</td>\n",
       "      <td>48071</td>\n",
       "      <td>1</td>\n",
       "      <td>3.211613</td>\n",
       "      <td>...</td>\n",
       "      <td>12.694146</td>\n",
       "      <td>0.299847</td>\n",
       "      <td>0.374105</td>\n",
       "      <td>0.378431</td>\n",
       "      <td>0.364723</td>\n",
       "      <td>9.462037</td>\n",
       "      <td>9.2</td>\n",
       "      <td>8.568120</td>\n",
       "      <td>10.598911</td>\n",
       "      <td>&lt;pysal.cg.shapes.Polygon object at 0x7f87aacfd...</td>\n",
       "    </tr>\n",
       "    <tr>\n",
       "      <th>229</th>\n",
       "      <td>Frio</td>\n",
       "      <td>Texas</td>\n",
       "      <td>48</td>\n",
       "      <td>163</td>\n",
       "      <td>48163</td>\n",
       "      <td>48</td>\n",
       "      <td>163</td>\n",
       "      <td>48163</td>\n",
       "      <td>1</td>\n",
       "      <td>3.296414</td>\n",
       "      <td>...</td>\n",
       "      <td>1.358373</td>\n",
       "      <td>0.390980</td>\n",
       "      <td>0.463020</td>\n",
       "      <td>0.435098</td>\n",
       "      <td>0.473507</td>\n",
       "      <td>14.665445</td>\n",
       "      <td>9.4</td>\n",
       "      <td>11.842919</td>\n",
       "      <td>18.330362</td>\n",
       "      <td>&lt;pysal.cg.shapes.Polygon object at 0x7f87aacfd...</td>\n",
       "    </tr>\n",
       "    <tr>\n",
       "      <th>234</th>\n",
       "      <td>La Salle</td>\n",
       "      <td>Texas</td>\n",
       "      <td>48</td>\n",
       "      <td>283</td>\n",
       "      <td>48283</td>\n",
       "      <td>48</td>\n",
       "      <td>283</td>\n",
       "      <td>48283</td>\n",
       "      <td>1</td>\n",
       "      <td>0.000000</td>\n",
       "      <td>...</td>\n",
       "      <td>1.008755</td>\n",
       "      <td>0.421556</td>\n",
       "      <td>0.482174</td>\n",
       "      <td>0.489173</td>\n",
       "      <td>0.492687</td>\n",
       "      <td>18.167702</td>\n",
       "      <td>14.1</td>\n",
       "      <td>13.052937</td>\n",
       "      <td>20.088626</td>\n",
       "      <td>&lt;pysal.cg.shapes.Polygon object at 0x7f87aacfd...</td>\n",
       "    </tr>\n",
       "    <tr>\n",
       "      <th>236</th>\n",
       "      <td>Dimmit</td>\n",
       "      <td>Texas</td>\n",
       "      <td>48</td>\n",
       "      <td>127</td>\n",
       "      <td>48127</td>\n",
       "      <td>48</td>\n",
       "      <td>127</td>\n",
       "      <td>48127</td>\n",
       "      <td>1</td>\n",
       "      <td>0.000000</td>\n",
       "      <td>...</td>\n",
       "      <td>0.575098</td>\n",
       "      <td>0.417976</td>\n",
       "      <td>0.452789</td>\n",
       "      <td>0.456840</td>\n",
       "      <td>0.479503</td>\n",
       "      <td>13.826043</td>\n",
       "      <td>10.1</td>\n",
       "      <td>10.944363</td>\n",
       "      <td>17.769080</td>\n",
       "      <td>&lt;pysal.cg.shapes.Polygon object at 0x7f87aacfd...</td>\n",
       "    </tr>\n",
       "    <tr>\n",
       "      <th>239</th>\n",
       "      <td>Webb</td>\n",
       "      <td>Texas</td>\n",
       "      <td>48</td>\n",
       "      <td>479</td>\n",
       "      <td>48479</td>\n",
       "      <td>48</td>\n",
       "      <td>479</td>\n",
       "      <td>48479</td>\n",
       "      <td>1</td>\n",
       "      <td>2.057899</td>\n",
       "      <td>...</td>\n",
       "      <td>0.117083</td>\n",
       "      <td>0.382594</td>\n",
       "      <td>0.443082</td>\n",
       "      <td>0.439100</td>\n",
       "      <td>0.461075</td>\n",
       "      <td>20.292824</td>\n",
       "      <td>15.5</td>\n",
       "      <td>17.419676</td>\n",
       "      <td>20.521271</td>\n",
       "      <td>&lt;pysal.cg.shapes.Polygon object at 0x7f87ab2c5...</td>\n",
       "    </tr>\n",
       "    <tr>\n",
       "      <th>242</th>\n",
       "      <td>Duval</td>\n",
       "      <td>Texas</td>\n",
       "      <td>48</td>\n",
       "      <td>131</td>\n",
       "      <td>48131</td>\n",
       "      <td>48</td>\n",
       "      <td>131</td>\n",
       "      <td>48131</td>\n",
       "      <td>1</td>\n",
       "      <td>2.487934</td>\n",
       "      <td>...</td>\n",
       "      <td>0.092894</td>\n",
       "      <td>0.370217</td>\n",
       "      <td>0.427660</td>\n",
       "      <td>0.421041</td>\n",
       "      <td>0.458937</td>\n",
       "      <td>15.829478</td>\n",
       "      <td>13.2</td>\n",
       "      <td>12.803677</td>\n",
       "      <td>20.699881</td>\n",
       "      <td>&lt;pysal.cg.shapes.Polygon object at 0x7f87ab2c5...</td>\n",
       "    </tr>\n",
       "  </tbody>\n",
       "</table>\n",
       "<p>10 rows × 70 columns</p>\n",
       "</div>"
      ],
      "text/plain": [
       "           NAME STATE_NAME STATE_FIPS CNTY_FIPS   FIPS  STFIPS  COFIPS  \\\n",
       "98        Ellis      Texas         48       139  48139      48     139   \n",
       "132    Hudspeth      Texas         48       229  48229      48     229   \n",
       "164  Jeff Davis      Texas         48       243  48243      48     243   \n",
       "166  Schleicher      Texas         48       413  48413      48     413   \n",
       "209    Chambers      Texas         48       071  48071      48      71   \n",
       "229        Frio      Texas         48       163  48163      48     163   \n",
       "234    La Salle      Texas         48       283  48283      48     283   \n",
       "236      Dimmit      Texas         48       127  48127      48     127   \n",
       "239        Webb      Texas         48       479  48479      48     479   \n",
       "242       Duval      Texas         48       131  48131      48     131   \n",
       "\n",
       "     FIPSNO  SOUTH      HR60  \\\n",
       "98    48139      1  9.217652   \n",
       "132   48229      1  9.971084   \n",
       "164   48243      1  0.000000   \n",
       "166   48413      1  0.000000   \n",
       "209   48071      1  3.211613   \n",
       "229   48163      1  3.296414   \n",
       "234   48283      1  0.000000   \n",
       "236   48127      1  0.000000   \n",
       "239   48479      1  2.057899   \n",
       "242   48131      1  2.487934   \n",
       "\n",
       "                           ...                              BLK90      GI59  \\\n",
       "98                         ...                          10.009746  0.325785   \n",
       "132                        ...                           0.514580  0.312484   \n",
       "164                        ...                           0.359712  0.316019   \n",
       "166                        ...                           0.903010  0.300170   \n",
       "209                        ...                          12.694146  0.299847   \n",
       "229                        ...                           1.358373  0.390980   \n",
       "234                        ...                           1.008755  0.421556   \n",
       "236                        ...                           0.575098  0.417976   \n",
       "239                        ...                           0.117083  0.382594   \n",
       "242                        ...                           0.092894  0.370217   \n",
       "\n",
       "         GI69      GI79      GI89       FH60  FH70       FH80       FH90  \\\n",
       "98   0.365177  0.352516  0.372783  12.418831  10.5   9.076165  12.031635   \n",
       "132  0.373474  0.440944  0.476631  14.115899   7.7   8.959538  11.363636   \n",
       "164  0.367719  0.437014  0.399655  14.438503  10.1   5.970149   8.255159   \n",
       "166  0.387936  0.419192  0.419375  10.155148   9.8   7.222914   8.363636   \n",
       "209  0.374105  0.378431  0.364723   9.462037   9.2   8.568120  10.598911   \n",
       "229  0.463020  0.435098  0.473507  14.665445   9.4  11.842919  18.330362   \n",
       "234  0.482174  0.489173  0.492687  18.167702  14.1  13.052937  20.088626   \n",
       "236  0.452789  0.456840  0.479503  13.826043  10.1  10.944363  17.769080   \n",
       "239  0.443082  0.439100  0.461075  20.292824  15.5  17.419676  20.521271   \n",
       "242  0.427660  0.421041  0.458937  15.829478  13.2  12.803677  20.699881   \n",
       "\n",
       "                                              geometry  \n",
       "98   <pysal.cg.shapes.Polygon object at 0x7f87aad1b...  \n",
       "132  <pysal.cg.shapes.Polygon object at 0x7f87aace9...  \n",
       "164  <pysal.cg.shapes.Polygon object at 0x7f87aace9...  \n",
       "166  <pysal.cg.shapes.Polygon object at 0x7f87aace3...  \n",
       "209  <pysal.cg.shapes.Polygon object at 0x7f87aacfd...  \n",
       "229  <pysal.cg.shapes.Polygon object at 0x7f87aacfd...  \n",
       "234  <pysal.cg.shapes.Polygon object at 0x7f87aacfd...  \n",
       "236  <pysal.cg.shapes.Polygon object at 0x7f87aacfd...  \n",
       "239  <pysal.cg.shapes.Polygon object at 0x7f87ab2c5...  \n",
       "242  <pysal.cg.shapes.Polygon object at 0x7f87ab2c5...  \n",
       "\n",
       "[10 rows x 70 columns]"
      ]
     },
     "execution_count": 67,
     "metadata": {},
     "output_type": "execute_result"
    }
   ],
   "source": [
    "data[hotspots]"
   ]
  },
  {
   "cell_type": "code",
   "execution_count": 71,
   "metadata": {
    "collapsed": false
   },
   "outputs": [
    {
     "data": {
      "image/png": "[encoded data removed]",
      "text/plain": [
       "<matplotlib.figure.Figure at 0x7f87ab6e87b8>"
      ]
     },
     "metadata": {},
     "output_type": "display_data"
    }
   ],
   "source": [
    "maps.plot_choropleth(shp_link, hotspots*1., 'unique_values', title='HR90 hotspots')"
   ]
  },
  {
   "cell_type": "code",
   "execution_count": 72,
   "metadata": {
    "collapsed": false
   },
   "outputs": [
    {
     "data": {
      "image/png": "[encoded data removed]",
      "text/plain": [
       "<matplotlib.figure.Figure at 0x7f87ab7ca3c8>"
      ]
     },
     "metadata": {},
     "output_type": "display_data"
    }
   ],
   "source": [
    "maps.plot_choropleth(shp_link, coldspots*1., 'unique_values', title='HR90 coldspots')"
   ]
  },
  {
   "cell_type": "code",
   "execution_count": 73,
   "metadata": {
    "collapsed": false
   },
   "outputs": [
    {
     "data": {
      "image/png": "[encoded data removed]",
      "text/plain": [
       "<matplotlib.figure.Figure at 0x7f87ab25f860>"
      ]
     },
     "metadata": {},
     "output_type": "display_data"
    }
   ],
   "source": [
    "maps.plot_choropleth(shp_link, data.HR90, 'quantiles', title='HR90 Quantiles')"
   ]
  },
  {
   "cell_type": "code",
   "execution_count": 75,
   "metadata": {
    "collapsed": false
   },
   "outputs": [
    {
     "data": {
      "text/plain": [
       "<matplotlib.axes._subplots.AxesSubplot at 0x7f87ab86f4e0>"
      ]
     },
     "execution_count": 75,
     "metadata": {},
     "output_type": "execute_result"
    },
    {
     "data": {
      "image/png": "[encoded data removed]",
      "text/plain": [
       "<matplotlib.figure.Figure at 0x7f87ab8b0668>"
      ]
     },
     "metadata": {},
     "output_type": "display_data"
    }
   ],
   "source": [
    "\n",
    "sns.kdeplot(data.HR90)"
   ]
  },
  {
   "cell_type": "code",
   "execution_count": 77,
   "metadata": {
    "collapsed": false
   },
   "outputs": [
    {
     "data": {
      "text/plain": [
       "8.3024944602850379"
      ]
     },
     "execution_count": 77,
     "metadata": {},
     "output_type": "execute_result"
    }
   ],
   "source": [
    "data.HR90.mean()"
   ]
  },
  {
   "cell_type": "code",
   "execution_count": 78,
   "metadata": {
    "collapsed": false
   },
   "outputs": [
    {
     "data": {
      "text/plain": [
       "7.23234613355"
      ]
     },
     "execution_count": 78,
     "metadata": {},
     "output_type": "execute_result"
    }
   ],
   "source": [
    "data.HR90.median()"
   ]
  },
  {
   "cell_type": "code",
   "execution_count": null,
   "metadata": {
    "collapsed": true
   },
   "outputs": [],
   "source": []
  }
 ],
 "metadata": {
  "kernelspec": {
   "display_name": "Python 3",
   "language": "python",
   "name": "python3"
  },
  "language_info": {
   "codemirror_mode": {
    "name": "ipython",
    "version": 3
   },
   "file_extension": ".py",
   "mimetype": "text/x-python",
   "name": "python",
   "nbconvert_exporter": "python",
   "pygments_lexer": "ipython3",
   "version": "3.5.1"
  }
 },
 "nbformat": 4,
 "nbformat_minor": 0
}
